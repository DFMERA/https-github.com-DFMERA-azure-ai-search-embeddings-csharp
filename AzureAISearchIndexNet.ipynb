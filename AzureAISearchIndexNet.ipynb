{
 "cells": [
  {
   "cell_type": "markdown",
   "id": "a7bbf3c5",
   "metadata": {},
   "source": [
    "# Creación de índice en Azure AI Search"
   ]
  },
  {
   "cell_type": "markdown",
   "id": "e515e0f6",
   "metadata": {},
   "source": [
    "To run this Notebook, you need to install Polyglot Notebooks for Visual Studio Code, which allows you to run .NET code in Jupyter Notebooks. You can find it here: [Polyglot Notebooks for Visual Studio Code](https://marketplace.visualstudio.com/items?itemName=ms-dotnettools.dotnet-interactive-vscode)."
   ]
  },
  {
   "cell_type": "code",
   "execution_count": null,
   "id": "f1849be2",
   "metadata": {},
   "outputs": [],
   "source": [
    "// Instalar paquetes NuGet necesarios\n",
    "#r \"nuget: Azure.Search.Documents, *-*\"\n",
    "#r \"nuget: Azure.Identity, *-*\"\n",
    "#r \"nuget: DotNetEnv, 3.0.0\"\n",
    "#r \"nuget: OpenAI, *-*\""
   ]
  },
  {
   "cell_type": "markdown",
   "id": "501f1e3c",
   "metadata": {},
   "source": [
    "### Definir un Azure AI Search índice"
   ]
  },
  {
   "cell_type": "code",
   "execution_count": null,
   "id": "48f26d04",
   "metadata": {},
   "outputs": [],
   "source": [
    "using System;\n",
    "using System.Collections.Generic;\n",
    "using System.Linq;\n",
    "using System.Threading.Tasks;\n",
    "using Azure.Identity;\n",
    "using Azure.Search.Documents.Indexes;\n",
    "using Azure.Search.Documents.Indexes.Models;\n",
    "using Azure.Search.Documents;\n",
    "using DotNetEnv;\n",
    "using OpenAI;\n",
    "using OpenAI.Embeddings;\n",
    "using System.ClientModel;\n",
    "\n",
    "\n",
    "// Cargar variables de entorno\n",
    "Env.Load();\n",
    "\n",
    "string endpoint = Environment.GetEnvironmentVariable(\"AZURE_AI_SEARCH_ENDPOINT\");\n",
    "string githubToken = Environment.GetEnvironmentVariable(\"GITHUB_TOKEN\");\n",
    "var credential = new DefaultAzureCredential();\n",
    "\n",
    "const string INDEX_NAME = \"my-index-net\";"
   ]
  },
  {
   "cell_type": "code",
   "execution_count": null,
   "id": "e53a630e",
   "metadata": {},
   "outputs": [],
   "source": [
    "// Eliminar índice si existe\n",
    "void DeleteIndex(SearchIndexClient client, string indexName)\n",
    "{\n",
    "    try\n",
    "    {\n",
    "        Console.WriteLine($\"Eliminando índice {indexName}\");\n",
    "        client.DeleteIndex(indexName);\n",
    "    }\n",
    "    catch (Exception ex)\n",
    "    {\n",
    "        Console.WriteLine($\"No se pudo eliminar el índice (puede no existir): {ex.Message}\");\n",
    "    }\n",
    "}"
   ]
  },
  {
   "cell_type": "code",
   "execution_count": null,
   "id": "fd61fc7f",
   "metadata": {},
   "outputs": [],
   "source": [
    "// Definir el índice con campo vectorial y configuración semántica\n",
    "SearchIndex CreateIndexDefinition(string name)\n",
    "{\n",
    "    var fields = new List<SearchField>\n",
    "    {\n",
    "        new SimpleField(\"id\", SearchFieldDataType.String) { IsKey = true },\n",
    "        new SearchableField(\"title\") {\n",
    "                    IsFacetable = true,\n",
    "                    IsFilterable = true,\n",
    "                    AnalyzerName = LexicalAnalyzerName.EsMicrosoft,\n",
    "                },\n",
    "        new SearchableField(\"content\") { AnalyzerName = LexicalAnalyzerName.EsMicrosoft },\n",
    "        new SearchableField(\"keywords\") {\n",
    "                    IsFacetable = true,\n",
    "                    IsFilterable = true,\n",
    "                    AnalyzerName = LexicalAnalyzerName.EsMicrosoft,\n",
    "                },\n",
    "        new SearchField(\"embedding\", SearchFieldDataType.Collection(SearchFieldDataType.Single))\n",
    "        {\n",
    "            IsSearchable = true,\n",
    "            VectorSearchDimensions = 1536,\n",
    "            VectorSearchProfileName = \"myHnswProfile\"\n",
    "        }\n",
    "    };\n",
    "\n",
    "    var semanticConfig = new SemanticConfiguration(\"default\",\n",
    "        new() { ContentFields = { new SemanticField(\"content\") },\n",
    "                TitleField = new SemanticField(\"title\"),\n",
    "                KeywordsFields = { new SemanticField(\"keywords\") },\n",
    "            }\n",
    "    );\n",
    "\n",
    "    var vectorSearch = new VectorSearch()\n",
    "    {\n",
    "        Algorithms =  {\n",
    "            new HnswAlgorithmConfiguration(\"myHnsw\")\n",
    "        },\n",
    "        Profiles = {\n",
    "            new VectorSearchProfile(\"myHnswProfile\", \"myHnsw\")\n",
    "        }\n",
    "    };\n",
    "    \n",
    "\n",
    "    var semanticSearch = new SemanticSearch() { Configurations = {semanticConfig} };\n",
    "\n",
    "    return new SearchIndex(name)\n",
    "    {\n",
    "        Fields = fields,\n",
    "        SemanticSearch = semanticSearch,\n",
    "        VectorSearch = vectorSearch\n",
    "    };\n",
    "}"
   ]
  },
  {
   "cell_type": "markdown",
   "id": "785efce9",
   "metadata": {},
   "source": [
    "## Crear el índice en Azure AI Search"
   ]
  },
  {
   "cell_type": "code",
   "execution_count": null,
   "id": "852bb115",
   "metadata": {},
   "outputs": [],
   "source": [
    "var indexClient = new SearchIndexClient(new Uri(endpoint), credential);\n",
    "\n",
    "DeleteIndex(indexClient, INDEX_NAME);\n",
    "Console.WriteLine($\"Eliminado índice {INDEX_NAME}\");\n",
    "var index = CreateIndexDefinition(INDEX_NAME);\n",
    "indexClient.CreateOrUpdateIndex(index);\n",
    "Console.WriteLine($\"Índice {INDEX_NAME} creado\");"
   ]
  },
  {
   "cell_type": "markdown",
   "id": "72d98705",
   "metadata": {},
   "source": [
    "## Generar embeddings y preparar documentos"
   ]
  },
  {
   "cell_type": "code",
   "execution_count": null,
   "id": "0a79373a",
   "metadata": {},
   "outputs": [],
   "source": [
    "const string MODEL_NAME = \"openai/text-embedding-3-small\";\n",
    "var openAIOptions = new OpenAIClientOptions()\n",
    "{\n",
    "    Endpoint = new Uri(\"https://models.github.ai/inference\")\n",
    "};\n",
    "EmbeddingClient embeddingClient = new(MODEL_NAME, new ApiKeyCredential(githubToken), openAIOptions);\n",
    "\n",
    "var contentInput = new[]\n",
    "{\n",
    "    new { Title = \"Lionel Messi\", Content = \"Hoja de vida: Lionel Messi. Futbolista argentino, considerado uno de los mejores jugadores de fútbol de todos los tiempos.\" },\n",
    "    new { Title = \"Diego Zumárraga Mera\", Content = \"Hoja de Vida: Diego Zumárraga Mera. Ingeniero de software con experiencia en desarrollo de aplicaciones web y móviles, apasionado por la inteligencia artificial y el aprendizaje automático.\" }\n",
    "};\n",
    "\n",
    "var docs = new List<Dictionary<string, object>>();\n",
    "for (int ix = 0; ix < contentInput.Length; ix++)\n",
    "{\n",
    "    var item = contentInput[ix];\n",
    "    Console.WriteLine($\"Procesando documento {ix}: {item.Content}\");\n",
    "    OpenAIEmbeddingCollection response = embeddingClient.GenerateEmbeddings(new List<string> { item.Content });\n",
    "    var embedding = response.FirstOrDefault().ToFloats().ToArray();\n",
    "    Console.WriteLine($\"Embedding length: {embedding.Length}\");\n",
    "\n",
    "    docs.Add(new Dictionary<string, object>\n",
    "    {\n",
    "        [\"id\"] = $\"doc-{ix}\",\n",
    "        [\"title\"] = item.Title,\n",
    "        [\"content\"] = item.Content,\n",
    "        [\"keywords\"] = item.Title.Replace(\" \", \", \"),\n",
    "        [\"embedding\"] = embedding\n",
    "    });\n",
    "}\n",
    "Console.WriteLine($\"Generados {docs.Count} documentos para indexar.\");"
   ]
  },
  {
   "cell_type": "markdown",
   "id": "3e39bee6",
   "metadata": {},
   "source": [
    "## Indexar documentos en Azure AI Search"
   ]
  },
  {
   "cell_type": "code",
   "execution_count": null,
   "id": "ed1a6d6f",
   "metadata": {},
   "outputs": [],
   "source": [
    "var searchClient = new SearchClient(new Uri(endpoint), INDEX_NAME, credential);\n",
    "Console.WriteLine($\"Indexando documentos...\");\n",
    "var uploadResult = searchClient.UploadDocuments(docs);\n",
    "Console.WriteLine($\"Subidos {docs.Count} documentos al índice {INDEX_NAME}\");"
   ]
  }
 ],
 "metadata": {
  "kernelspec": {
   "display_name": ".NET (C#)",
   "language": "C#",
   "name": ".net-csharp"
  },
  "language_info": {
   "name": "polyglot-notebook"
  },
  "polyglot_notebook": {
   "kernelInfo": {
    "defaultKernelName": "csharp",
    "items": [
     {
      "aliases": [],
      "name": "csharp"
     }
    ]
   }
  }
 },
 "nbformat": 4,
 "nbformat_minor": 5
}
