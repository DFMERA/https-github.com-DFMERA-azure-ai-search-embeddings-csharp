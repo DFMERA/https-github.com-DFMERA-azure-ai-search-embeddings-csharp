{
 "cells": [
  {
   "cell_type": "markdown",
   "id": "4d931b01",
   "metadata": {},
   "source": [
    "# Probar la búsqueda en Azure AI Search"
   ]
  },
  {
   "cell_type": "markdown",
   "id": "6519e174",
   "metadata": {},
   "source": [
    "To run this Notebook, you need to install Polyglot Notebooks for Visual Studio Code, which allows you to run .NET code in Jupyter Notebooks. You can find it here: [Polyglot Notebooks for Visual Studio Code](https://marketplace.visualstudio.com/items?itemName=ms-dotnettools.dotnet-interactive-vscode)."
   ]
  },
  {
   "cell_type": "code",
   "execution_count": null,
   "id": "1cceb15a",
   "metadata": {},
   "outputs": [],
   "source": [
    "// Instalar paquetes NuGet necesarios\n",
    "#r \"nuget: Azure.Search.Documents, *-*\"\n",
    "#r \"nuget: Azure.Identity, *-*\"\n",
    "#r \"nuget: DotNetEnv, 3.0.0\"\n",
    "#r \"nuget: OpenAI, *-*\""
   ]
  },
  {
   "cell_type": "code",
   "execution_count": null,
   "metadata": {
    "language_info": {
     "name": "polyglot-notebook"
    },
    "polyglot_notebook": {
     "kernelName": "csharp"
    }
   },
   "outputs": [],
   "source": [
    "using System;\n",
    "using System.Collections.Generic;\n",
    "using System.Linq;\n",
    "using Azure.Identity;\n",
    "using Azure.Search.Documents;\n",
    "using Azure.Search.Documents.Models;\n",
    "using DotNetEnv;\n",
    "using OpenAI;\n",
    "using OpenAI.Embeddings;\n",
    "using System.ClientModel;\n",
    "\n",
    "// Cargar variables de entorno\n",
    "Env.Load();\n",
    "string endpoint = Environment.GetEnvironmentVariable(\"AZURE_AI_SEARCH_ENDPOINT\");\n",
    "string githubToken = Environment.GetEnvironmentVariable(\"GITHUB_TOKEN\");\n",
    "var credential = new DefaultAzureCredential();\n",
    "\n",
    "const string INDEX_NAME = \"my-index-net\";"
   ]
  },
  {
   "cell_type": "markdown",
   "id": "3c87551a",
   "metadata": {},
   "source": [
    "### Generar los embeddings para una consulta"
   ]
  },
  {
   "cell_type": "code",
   "execution_count": null,
   "metadata": {
    "language_info": {
     "name": "polyglot-notebook"
    },
    "polyglot_notebook": {
     "kernelName": "csharp"
    }
   },
   "outputs": [],
   "source": [
    "const string MODEL_NAME = \"openai/text-embedding-3-small\";\n",
    "var openAIOptions = new OpenAIClientOptions()\n",
    "{\n",
    "    Endpoint = new Uri(\"https://models.github.ai/inference\")\n",
    "};\n",
    "EmbeddingClient embeddingClient = new(MODEL_NAME, new ApiKeyCredential(githubToken), openAIOptions);\n",
    "\n",
    "string queryInput = \"Resume la hoja de vida de Diego Zumárraga Mera\";\n",
    "OpenAIEmbeddingCollection embeddingResponse = embeddingClient.GenerateEmbeddings(new List<string> { queryInput });\n",
    "var queryEmbedding = embeddingResponse.FirstOrDefault().ToFloats().ToArray();\n",
    "Console.WriteLine($\"Embedding length: {queryEmbedding.Length.ToString()}\");"
   ]
  },
  {
   "cell_type": "markdown",
   "id": "bc7fc51c",
   "metadata": {},
   "source": [
    "### Buscar la consulta en Azure AI Search"
   ]
  },
  {
   "cell_type": "code",
   "execution_count": null,
   "metadata": {
    "language_info": {
     "name": "polyglot-notebook"
    },
    "polyglot_notebook": {
     "kernelName": "csharp"
    }
   },
   "outputs": [],
   "source": [
    "var searchClient = new SearchClient(new Uri(endpoint), INDEX_NAME, credential);\n",
    "\n",
    "var vectorQuery = new VectorizedQuery(queryEmbedding)\n",
    "{\n",
    "    Fields = { \"embedding\" },\n",
    "    KNearestNeighborsCount = 3\n",
    "};\n",
    "\n",
    "var options = new SearchOptions()\n",
    "{\n",
    "    QueryType = SearchQueryType.Semantic,\n",
    "    SemanticSearch = new()\n",
    "                {\n",
    "                    SemanticConfigurationName = \"default\",\n",
    "                    QueryCaption = new(QueryCaptionType.Extractive),\n",
    "                    QueryAnswer = new(QueryAnswerType.Extractive)\n",
    "                },\n",
    "    Size = 2\n",
    "};\n",
    "\n",
    "options.VectorSearch = new();\n",
    "options.VectorSearch.Queries.Add(vectorQuery);\n",
    "\n",
    "Console.WriteLine(\"Buscando resultados...\");\n",
    "var response = searchClient.Search<Dictionary<string, object>>(queryInput, options);"
   ]
  },
  {
   "cell_type": "code",
   "execution_count": null,
   "metadata": {
    "language_info": {
     "name": "polyglot-notebook"
    },
    "polyglot_notebook": {
     "kernelName": "csharp"
    }
   },
   "outputs": [],
   "source": [
    "string rawResults = response.GetRawResponse().Content.ToString();\n",
    "Console.WriteLine($\"Raw results: {rawResults}\");"
   ]
  },
  {
   "cell_type": "markdown",
   "id": "9c4e4271",
   "metadata": {},
   "source": [
    "### Obtener la mejor respuesta"
   ]
  },
  {
   "cell_type": "code",
   "execution_count": null,
   "metadata": {
    "language_info": {
     "name": "polyglot-notebook"
    },
    "polyglot_notebook": {
     "kernelName": "csharp"
    }
   },
   "outputs": [],
   "source": [
    "var dicResults = System.Text.Json.JsonSerializer.Deserialize<Dictionary<string, object>>(rawResults);\n",
    "\n",
    "object objAnswers; // List<Dictionary<string, object>>;\n",
    "dicResults.TryGetValue(\"@search.answers\", out objAnswers);\n",
    "\n",
    "var answers = System.Text.Json.JsonSerializer.Deserialize<List<Dictionary<string, object>>>(objAnswers?.ToString() ?? string.Empty);\n",
    "Console.WriteLine($\"Number of answers: {answers?.Count ?? 0}\");\n",
    "\n",
    "if (answers != null && answers.Any())\n",
    "{\n",
    "    Console.WriteLine(\"Answers:\");\n",
    "    foreach (var answer in answers)\n",
    "    {\n",
    "        Console.WriteLine($\"Text: {answer[\"text\"]}\");\n",
    "        Console.WriteLine($\"Score: {answer[\"score\"]}\");\n",
    "    }\n",
    "}"
   ]
  },
  {
   "cell_type": "markdown",
   "id": "e30ed97e",
   "metadata": {},
   "source": [
    "### Obtener todos los resultados"
   ]
  },
  {
   "cell_type": "code",
   "execution_count": null,
   "metadata": {
    "language_info": {
     "name": "polyglot-notebook"
    },
    "polyglot_notebook": {
     "kernelName": "csharp"
    }
   },
   "outputs": [],
   "source": [
    "var results = new List<Dictionary<string, object>>();\n",
    "foreach (var doc in response.Value.GetResults())\n",
    "{\n",
    "    var d = doc.Document;\n",
    "    results.Add(new Dictionary<string, object>\n",
    "    {\n",
    "        [\"id\"] = d[\"id\"],\n",
    "        [\"title\"] = d[\"title\"],\n",
    "        [\"content\"] = d[\"content\"],\n",
    "        [\"rerankerScore\"] = d.ContainsKey(\"@search.rerankerScore\") ? d[\"@search.rerankerScore\"] : null\n",
    "    });\n",
    "}\n",
    "\n",
    "Console.WriteLine($\"Found {results.Count} results\");\n",
    "for (int i = 0; i < results.Count; i++)\n",
    "{\n",
    "    var doc = results[i];\n",
    "    Console.WriteLine($\"Result {i + 1}:\");\n",
    "    Console.WriteLine($\"Title: {doc[\"title\"]}\");\n",
    "    Console.WriteLine($\"Content: {doc[\"content\"]}\");\n",
    "    Console.WriteLine($\"Reranker Score: {doc[\"rerankerScore\"]}\");\n",
    "    Console.WriteLine();\n",
    "}"
   ]
  }
 ],
 "metadata": {
  "kernelspec": {
   "display_name": ".NET (C#)",
   "language": "C#",
   "name": ".net-csharp"
  },
  "language_info": {
   "name": "polyglot-notebook"
  },
  "polyglot_notebook": {
   "kernelInfo": {
    "defaultKernelName": "csharp",
    "items": [
     {
      "aliases": [],
      "name": "csharp"
     }
    ]
   }
  }
 },
 "nbformat": 4,
 "nbformat_minor": 5
}
