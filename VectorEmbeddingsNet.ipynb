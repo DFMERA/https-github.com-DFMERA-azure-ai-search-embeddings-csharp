{
 "cells": [
  {
   "cell_type": "markdown",
   "id": "b5590583",
   "metadata": {},
   "source": [
    "## Generate embeddings with the OpenAI SDK"
   ]
  },
  {
   "cell_type": "markdown",
   "id": "3db83ff1",
   "metadata": {},
   "source": [
    "To run this Notebook, you need to install Polyglot Notebooks for Visual Studio Code, which allows you to run .NET code in Jupyter Notebooks. You can find it here: [Polyglot Notebooks for Visual Studio Code](https://marketplace.visualstudio.com/items?itemName=ms-dotnettools.dotnet-interactive-vscode)."
   ]
  },
  {
   "cell_type": "markdown",
   "id": "11ebe736",
   "metadata": {},
   "source": [
    "### Set up the OpenAI client with GitHub Models"
   ]
  },
  {
   "cell_type": "code",
   "execution_count": null,
   "id": "68b6cb65",
   "metadata": {
    "language_info": {
     "name": "polyglot-notebook"
    },
    "polyglot_notebook": {
     "kernelName": "csharp"
    }
   },
   "outputs": [],
   "source": [
    "// Install required NuGet packages for .NET Interactive:\n",
    "#r \"nuget: OpenAI, *-*\"\n",
    "#r \"nuget: DotNetEnv, 3.0.0\""
   ]
  },
  {
   "cell_type": "code",
   "execution_count": null,
   "id": "9447e98f",
   "metadata": {
    "language_info": {
     "name": "polyglot-notebook"
    },
    "polyglot_notebook": {
     "kernelName": "csharp"
    }
   },
   "outputs": [],
   "source": [
    "using System;\n",
    "using System.Collections.Generic;\n",
    "using System.Linq;\n",
    "using System.Threading.Tasks;\n",
    "using OpenAI;\n",
    "using OpenAI.Embeddings;\n",
    "using DotNetEnv;\n",
    "using System.ClientModel;\n",
    "\n",
    "\n",
    "// Load environment variables\n",
    "Env.Load();\n",
    "\n",
    "const string MODEL_NAME = \"openai/text-embedding-3-small\";\n",
    "\n",
    "var endpoint = \"https://models.github.ai/inference\";\n",
    "var credential = System.Environment.GetEnvironmentVariable(\"GITHUB_TOKEN\");\n",
    "\n",
    "var openAIOptions = new OpenAIClientOptions()\n",
    "{\n",
    "    Endpoint = new Uri(endpoint)\n",
    "};\n",
    "\n",
    "EmbeddingClient client = new(MODEL_NAME, new ApiKeyCredential(credential), openAIOptions);\n"
   ]
  },
  {
   "cell_type": "code",
   "execution_count": null,
   "metadata": {
    "language_info": {
     "name": "polyglot-notebook"
    },
    "polyglot_notebook": {
     "kernelName": "csharp"
    }
   },
   "outputs": [],
   "source": [
    "string contentInput = \"Hoja de vida: Lionel Messi. Futbolista argentino, considerado uno de los mejores jugadores de fútbol de todos los tiempos.\";"
   ]
  },
  {
   "cell_type": "code",
   "execution_count": null,
   "metadata": {
    "language_info": {
     "name": "polyglot-notebook"
    },
    "polyglot_notebook": {
     "kernelName": "csharp"
    }
   },
   "outputs": [],
   "source": [
    "public static ReadOnlyMemory<float> PrintAndReturnEmbeddings(OpenAIEmbeddingCollection response)\n",
    "{\n",
    "    var embedding = response.FirstOrDefault();\n",
    "    ReadOnlyMemory<float> vector = embedding.ToFloats();\n",
    "    int length = vector.Length;\n",
    "    System.Console.Write($\"data[{embedding.Index}]: length={length}, \");\n",
    "    System.Console.Write($\"[{vector.Span[0]}, {vector.Span[1]}, ..., \");\n",
    "    System.Console.WriteLine($\"{vector.Span[length - 2]}, {vector.Span[length - 1]}]\");\n",
    "    return vector;\n",
    "}"
   ]
  },
  {
   "cell_type": "code",
   "execution_count": null,
   "metadata": {
    "language_info": {
     "name": "polyglot-notebook"
    },
    "polyglot_notebook": {
     "kernelName": "csharp"
    }
   },
   "outputs": [],
   "source": [
    "OpenAIEmbeddingCollection response = client.GenerateEmbeddings(\n",
    "    new List<string>{\n",
    "        contentInput\n",
    "    }\n",
    ");\n",
    "\n",
    "var embeddingsResponse1 = PrintAndReturnEmbeddings(response);"
   ]
  },
  {
   "cell_type": "markdown",
   "id": "ea02c4b0",
   "metadata": {},
   "source": [
    "### Vector similarity"
   ]
  },
  {
   "cell_type": "code",
   "execution_count": null,
   "metadata": {
    "language_info": {
     "name": "polyglot-notebook"
    },
    "polyglot_notebook": {
     "kernelName": "csharp"
    }
   },
   "outputs": [],
   "source": [
    "public static double CosineSimilarity(float[] v1, float[] v2)\n",
    "{\n",
    "    if (v1.Length != v2.Length)\n",
    "        throw new ArgumentException(\"Vectors must have the same length\");\n",
    "    \n",
    "    double dotProduct = v1.Zip(v2, (a, b) => (double)a * b).Sum();\n",
    "    \n",
    "    double magnitude1 = Math.Sqrt(v1.Sum(a => (double)a * a));\n",
    "    double magnitude2 = Math.Sqrt(v2.Sum(a => (double)a * a));\n",
    "    double magnitude = magnitude1 * magnitude2;\n",
    "    \n",
    "    return dotProduct / magnitude;\n",
    "}"
   ]
  },
  {
   "cell_type": "code",
   "execution_count": null,
   "metadata": {
    "language_info": {
     "name": "polyglot-notebook"
    },
    "polyglot_notebook": {
     "kernelName": "csharp"
    }
   },
   "outputs": [],
   "source": [
    "var response2 = client.GenerateEmbeddings(\n",
    "    new List<string>{\n",
    "        \"Diego Zumárraga Mera\"\n",
    "    }\n",
    ");\n",
    "\n",
    "var embeddingsResponse2 = PrintAndReturnEmbeddings(response2);"
   ]
  },
  {
   "cell_type": "code",
   "execution_count": null,
   "metadata": {
    "language_info": {
     "name": "polyglot-notebook"
    },
    "polyglot_notebook": {
     "kernelName": "csharp"
    }
   },
   "outputs": [],
   "source": [
    "// Compare the two vectors\n",
    "double similarity = CosineSimilarity(embeddingsResponse1.ToArray(), embeddingsResponse2.ToArray());\n",
    "Console.WriteLine($\"Similarity: {similarity:F4}\");"
   ]
  },
  {
   "cell_type": "code",
   "execution_count": null,
   "metadata": {
    "language_info": {
     "name": "polyglot-notebook"
    },
    "polyglot_notebook": {
     "kernelName": "csharp"
    }
   },
   "outputs": [],
   "source": [
    "var response3 = client.GenerateEmbeddings(\n",
    "    new List<string>{\n",
    "        \"Resume la hoja de vida de Diego Zumárraga Mera\"\n",
    "    }\n",
    ");\n",
    "\n",
    "var embeddingsResponse3 = PrintAndReturnEmbeddings(response3);"
   ]
  },
  {
   "cell_type": "code",
   "execution_count": null,
   "metadata": {
    "language_info": {
     "name": "polyglot-notebook"
    },
    "polyglot_notebook": {
     "kernelName": "csharp"
    }
   },
   "outputs": [],
   "source": [
    "// Compare the two vectors\n",
    "double similarity2 = CosineSimilarity(embeddingsResponse1.ToArray(), embeddingsResponse3.ToArray());\n",
    "Console.WriteLine($\"Similarity: {similarity2:F4}\");"
   ]
  }
 ],
 "metadata": {
  "kernelspec": {
   "display_name": ".NET (C#)",
   "language": "C#",
   "name": ".net-csharp"
  },
  "language_info": {
   "name": "polyglot-notebook"
  },
  "polyglot_notebook": {
   "kernelInfo": {
    "defaultKernelName": "csharp",
    "items": [
     {
      "aliases": [],
      "languageName": "csharp",
      "name": "csharp"
     }
    ]
   }
  }
 },
 "nbformat": 4,
 "nbformat_minor": 5
}
